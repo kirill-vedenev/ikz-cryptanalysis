{
 "cells": [
  {
   "cell_type": "code",
   "execution_count": 1,
   "id": "727297bb",
   "metadata": {},
   "outputs": [],
   "source": [
    "#%display latex\n",
    "import random\n",
    "\n",
    "p = 5\n",
    "m = 2\n",
    "q = p^m\n",
    "\n",
    "K = GF(p)\n",
    "F.<z> = K.extension(m)"
   ]
  },
  {
   "cell_type": "markdown",
   "id": "eec00159",
   "metadata": {},
   "source": [
    "## Key generation"
   ]
  },
  {
   "cell_type": "code",
   "execution_count": 2,
   "id": "028bacb5",
   "metadata": {},
   "outputs": [
    {
     "data": {
      "text/plain": [
       "[32, 16] linear code over GF(5)"
      ]
     },
     "execution_count": 2,
     "metadata": {},
     "output_type": "execute_result"
    }
   ],
   "source": [
    "n = 16\n",
    "k = 8\n",
    "X = random.sample([i for i in F if i != 0], n) #the support of RS code\n",
    "Csec = codes.GeneralizedReedSolomonCode(X, k)\n",
    "Qlist = []\n",
    "for i in range(n//2):\n",
    "    Qlist.append(\n",
    "        block_diagonal_matrix(random_matrix(K, m, algorithm='unimodular'), random_matrix(K, m, algorithm='unimodular')) *\n",
    "        block_diagonal_matrix(random_matrix(K, m-1, algorithm='unimodular'), random_matrix(K, m+1, algorithm='unimodular'))\n",
    "    )\n",
    "Q = block_diagonal_matrix(Qlist)\n",
    "\n",
    "expMat = lambda G: block_matrix([[j.matrix().T for j in i] for i in G]) #returns subfield image of G\n",
    "\n",
    "S = random_matrix(K, k*m, algorithm='unimodular')\n",
    "Gpub = S * expMat(Csec.generator_matrix()) * Q\n",
    "Cpub = codes.LinearCode(Gpub)\n",
    "Cpub"
   ]
  },
  {
   "cell_type": "code",
   "execution_count": null,
   "id": "b63f01a9",
   "metadata": {},
   "outputs": [],
   "source": [
    "Csec.generator_matrix().rref()"
   ]
  },
  {
   "cell_type": "code",
   "execution_count": 3,
   "id": "eb09c678",
   "metadata": {},
   "outputs": [
    {
     "data": {
      "text/plain": [
       "[1 0 0 0 0 0 0 0 0 0 0 0 0 0 0 0 1 3 3 2 2 1 2 4 1 3 1 4 2 2 0 2]\n",
       "[0 1 0 0 0 0 0 0 0 0 0 0 0 0 0 0 2 2 4 0 3 1 2 1 0 0 4 0 4 1 2 4]\n",
       "[0 0 1 0 0 0 0 0 0 0 0 0 0 0 0 0 1 2 4 2 0 0 0 4 1 0 1 1 3 1 2 2]\n",
       "[0 0 0 1 0 0 0 0 0 0 0 0 0 0 0 0 0 0 3 1 2 4 4 3 0 1 4 0 4 1 3 2]\n",
       "[0 0 0 0 1 0 0 0 0 0 0 0 0 0 0 0 2 0 4 0 1 1 2 1 4 4 4 2 3 2 0 2]\n",
       "[0 0 0 0 0 1 0 0 0 0 0 0 0 0 0 0 1 3 0 4 2 1 0 1 3 2 2 4 2 4 1 4]\n",
       "[0 0 0 0 0 0 1 0 0 0 0 0 0 0 0 0 0 1 4 3 3 1 1 4 1 2 4 0 2 4 4 0]\n",
       "[0 0 0 0 0 0 0 1 0 0 0 0 0 0 0 0 2 3 4 1 3 4 0 0 0 3 0 1 0 4 1 1]\n",
       "[0 0 0 0 0 0 0 0 1 0 0 0 0 0 0 0 1 3 2 3 4 3 0 0 1 1 3 3 0 4 2 4]\n",
       "[0 0 0 0 0 0 0 0 0 1 0 0 0 0 0 0 4 0 2 2 3 2 0 4 0 2 3 3 2 2 2 0]\n",
       "[0 0 0 0 0 0 0 0 0 0 1 0 0 0 0 0 2 1 4 4 0 3 1 3 2 1 3 1 3 2 4 0]\n",
       "[0 0 0 0 0 0 0 0 0 0 0 1 0 0 0 0 1 2 3 2 4 0 3 0 1 3 1 3 3 4 4 1]\n",
       "[0 0 0 0 0 0 0 0 0 0 0 0 1 0 0 0 3 1 1 1 4 1 1 2 2 1 0 3 0 1 2 1]\n",
       "[0 0 0 0 0 0 0 0 0 0 0 0 0 1 0 0 1 0 3 3 2 3 3 0 2 3 0 2 0 2 2 1]\n",
       "[0 0 0 0 0 0 0 0 0 0 0 0 0 0 1 0 2 4 1 1 0 4 4 1 4 3 3 2 4 3 2 4]\n",
       "[0 0 0 0 0 0 0 0 0 0 0 0 0 0 0 1 2 1 2 1 1 2 4 2 3 2 4 2 1 3 3 0]"
      ]
     },
     "execution_count": 3,
     "metadata": {},
     "output_type": "execute_result"
    }
   ],
   "source": [
    "Gsys = Gpub.rref()\n",
    "Gsys"
   ]
  },
  {
   "cell_type": "code",
   "execution_count": 4,
   "id": "27cd6f32",
   "metadata": {},
   "outputs": [],
   "source": [
    "T = lambda i,j: Gsys[(i-1)*2*m:i*2*m, (j-1)*2*m:j*2*m]\n",
    "\n",
    "Z = vector([z^i for i in range(m)])\n",
    "def testMat(A):\n",
    "    \"\"\"Checks whether A is in Delta$\"\"\"\n",
    "    a = Z.inner_product(A[0][:m])\n",
    "    b = Z.inner_product(A[0][m:])\n",
    "    c = Z.inner_product(A[m][:m])\n",
    "    d = Z.inner_product(A[m][m:])\n",
    "    return A == block_matrix([[a.matrix().T, b.matrix().T], [c.matrix().T, d.matrix().T]])"
   ]
  },
  {
   "cell_type": "markdown",
   "id": "7f89f607",
   "metadata": {},
   "source": [
    "## Step 1: Finding $Q_1'$ "
   ]
  },
  {
   "cell_type": "code",
   "execution_count": 5,
   "id": "e2d7f951",
   "metadata": {},
   "outputs": [],
   "source": [
    "V = lambda i,j,r,s: T(i,j) * (T(r,j)^-1) * T(r,s) * (T(i,s)^-1)"
   ]
  },
  {
   "cell_type": "code",
   "execution_count": 6,
   "id": "5f3e3fed",
   "metadata": {},
   "outputs": [
    {
     "data": {
      "text/plain": [
       "27"
      ]
     },
     "execution_count": 6,
     "metadata": {},
     "output_type": "execute_result"
    }
   ],
   "source": [
    "U = []\n",
    "\n",
    "for j in range(k//2+1, n//2+1):\n",
    "    for r in range(1, k//2+1):\n",
    "        if T(r,j).is_singular() or (r==1):\n",
    "            continue\n",
    "        for s in range(k//2+1, n//2):\n",
    "            if T(1,s).is_singular() or (j == s):\n",
    "                continue\n",
    "            if V(1, j, r, s) not in U:\n",
    "                U.append(V(1, j, r, s))  \n",
    "len(U)"
   ]
  },
  {
   "cell_type": "code",
   "execution_count": 7,
   "id": "f103d764",
   "metadata": {},
   "outputs": [
    {
     "data": {
      "text/plain": [
       "[True,\n",
       " True,\n",
       " True,\n",
       " True,\n",
       " True,\n",
       " True,\n",
       " True,\n",
       " True,\n",
       " True,\n",
       " True,\n",
       " True,\n",
       " True,\n",
       " True,\n",
       " True,\n",
       " True,\n",
       " True,\n",
       " True,\n",
       " True,\n",
       " True,\n",
       " True,\n",
       " True,\n",
       " True,\n",
       " True,\n",
       " True,\n",
       " True,\n",
       " True,\n",
       " True]"
      ]
     },
     "execution_count": 7,
     "metadata": {},
     "output_type": "execute_result"
    }
   ],
   "source": [
    "[testMat(Qlist[0] * i * Qlist[0]^-1) for i in U]"
   ]
  },
  {
   "cell_type": "code",
   "execution_count": null,
   "id": "7fd91e2d",
   "metadata": {},
   "outputs": [],
   "source": [
    "#using brute-force\n",
    "\n",
    "Q1s = []\n",
    "for u in MatrixSpace(K, m):\n",
    "    if u.is_singular():\n",
    "        continue\n",
    "    #d = 0\n",
    "    for v in MatrixSpace(K, m+1):   \n",
    "        if v.is_singular():\n",
    "            continue    \n",
    "        Q1 = block_diagonal_matrix([u, identity_matrix(m)]) * block_diagonal_matrix([identity_matrix(m-1), v])\n",
    "        Q1m = Q1^-1\n",
    "        fl = True\n",
    "        for Ui in U:\n",
    "            if not testMat(Q1 * Ui * Q1m):\n",
    "                fl = False\n",
    "            break\n",
    "        if fl:\n",
    "            if Q1 not in Q1s: Q1s.append(Q1); print(len(Q1s))\n",
    "            #break\n",
    "    #if fl:\n",
    "    #    break\n",
    "Q1 = Q1s[0]"
   ]
  },
  {
   "cell_type": "code",
   "execution_count": 8,
   "id": "33ac6c69",
   "metadata": {},
   "outputs": [
    {
     "name": "stdout",
     "output_type": "stream",
     "text": [
      "+\n"
     ]
    }
   ],
   "source": [
    "#probabilistic\n",
    "while True:\n",
    "    u = random_matrix(K, m, algorithm='unimodular')\n",
    "    v = random_matrix(K, m+1, algorithm='unimodular')\n",
    "    Q1 = block_diagonal_matrix([u, identity_matrix(m)]) * block_diagonal_matrix([identity_matrix(m-1), v])\n",
    "    Q1m = Q1^-1\n",
    "    fl = True\n",
    "    for Ui in U:\n",
    "        if not testMat(Q1 * Ui * Q1m):\n",
    "            fl = False\n",
    "            break\n",
    "    if fl:\n",
    "        print(\"+\")\n",
    "        break  "
   ]
  },
  {
   "cell_type": "code",
   "execution_count": null,
   "id": "c6b4e73c",
   "metadata": {},
   "outputs": [],
   "source": [
    "Qlist_rec = [Q1]*(n//2)\n",
    "Qlist_rec"
   ]
  },
  {
   "cell_type": "markdown",
   "id": "c1ab594c",
   "metadata": {},
   "source": [
    "## Step 2: Finding $Q_j'$ for $j \\geq k/2+1$"
   ]
  },
  {
   "cell_type": "code",
   "execution_count": 10,
   "id": "c227dc01",
   "metadata": {},
   "outputs": [],
   "source": [
    "W = lambda i,j,r,s: (T(i,j)^-1) * T(i,s) * (T(r,s)^-1) * T(r,j)"
   ]
  },
  {
   "cell_type": "code",
   "execution_count": 11,
   "id": "9bd6ee08",
   "metadata": {},
   "outputs": [],
   "source": [
    "j = k//2 + 1\n",
    "def findQj_prob(j):\n",
    "    U = []\n",
    "    B = Q1 * T(1, j)\n",
    "    for i in range(1, k//2+1):\n",
    "        if T(i,j).is_singular(): continue\n",
    "        for r in range(1, k//2+1):\n",
    "            if i == r: continue\n",
    "            for s in range(k//2+1, n//2+1):\n",
    "                if T(r,s).is_singular() or (j == s): continue\n",
    "                u = W(i,j,r,s)\n",
    "                if u not in U: U.append(u)\n",
    "    while True:\n",
    "        u = random_matrix(K, m, algorithm='unimodular')\n",
    "        v = random_matrix(K, m+1, algorithm='unimodular')\n",
    "        Qj = block_diagonal_matrix([u, identity_matrix(m)]) * block_diagonal_matrix([identity_matrix(m-1), v])\n",
    "        Qjm = Qj^-1\n",
    "        fl = True\n",
    "        if not testMat(B * Qjm):\n",
    "            fl = False\n",
    "            continue\n",
    "        for Ui in U:        \n",
    "            if not testMat(Qj * Ui * Qjm):\n",
    "                fl = False\n",
    "                break\n",
    "        if fl:     \n",
    "            print('+')\n",
    "            return Qj\n",
    "    return None\n",
    "\n",
    "def findQj_brutforce(j):\n",
    "    U = []\n",
    "    B = Q1 * T(1, j)\n",
    "    for i in range(1, k//2+1):\n",
    "        if T(i,j).is_singular(): continue\n",
    "        for r in range(1, k//2+1):\n",
    "            if i == r: continue\n",
    "            for s in range(k//2+1, n//2+1):\n",
    "                if T(r,s).is_singular() or (j == s): continue\n",
    "                u = W(i,j,r,s)\n",
    "                if u not in U: U.append(u)\n",
    "    for u in MatrixSpace(K, m):\n",
    "        if u.is_singular(): continue\n",
    "        for v in MatrixSpace(K, m+1):   \n",
    "            if v.is_singular(): continue    \n",
    "            Qj = block_diagonal_matrix([u, identity_matrix(m)]) * block_diagonal_matrix([identity_matrix(m-1), v])\n",
    "            Qjm = Qj^-1\n",
    "            fl = True\n",
    "            if not testMat(B * Qjm): continue\n",
    "            for Ui in U:\n",
    "                if not testMat(Qj * Ui * Qjm):\n",
    "                    fl = False\n",
    "                    break\n",
    "            if fl:\n",
    "                print(\"+\")\n",
    "                return Qj\n",
    "    return None"
   ]
  },
  {
   "cell_type": "code",
   "execution_count": 12,
   "id": "9fd5c8d4",
   "metadata": {},
   "outputs": [
    {
     "name": "stdout",
     "output_type": "stream",
     "text": [
      "+\n",
      "+\n",
      "+\n",
      "+\n"
     ]
    }
   ],
   "source": [
    "for j in range(k//2+1, n//2+1):\n",
    "    Qlist_rec[j-1] = findQj_prob(j)"
   ]
  },
  {
   "cell_type": "code",
   "execution_count": null,
   "id": "f14de701",
   "metadata": {},
   "outputs": [],
   "source": [
    "Qlist_rec"
   ]
  },
  {
   "cell_type": "markdown",
   "id": "76d439c8",
   "metadata": {},
   "source": [
    "## Step 3: Finding $Q_i'$ for $2 \\leq i \\leq k/2$"
   ]
  },
  {
   "cell_type": "code",
   "execution_count": null,
   "id": "83cb7d5f",
   "metadata": {},
   "outputs": [],
   "source": [
    "i = 2\n",
    "U = [T(i,j) * (Qlist_rec[j-1]^-1) for j in range(k//2+1, n//2+1)]\n",
    "U"
   ]
  },
  {
   "cell_type": "code",
   "execution_count": 13,
   "id": "41232410",
   "metadata": {},
   "outputs": [],
   "source": [
    "def findQi_prob(i):\n",
    "    U = [T(i,j) * (Qlist_rec[j-1]^-1) for j in range(k//2+1, n//2+1)]    \n",
    "    while True:\n",
    "        u = random_matrix(K, m, algorithm='unimodular')\n",
    "        v = random_matrix(K, m+1, algorithm='unimodular')\n",
    "        Qi = block_diagonal_matrix([u, identity_matrix(m)]) * block_diagonal_matrix([identity_matrix(m-1), v])\n",
    "        #Qim = Qi^-1\n",
    "        fl = True\n",
    "        for Ui in U:        \n",
    "            if not testMat(Qi*Ui):\n",
    "                fl = False\n",
    "                break\n",
    "        if fl:     \n",
    "            print('+')\n",
    "            return Qi\n",
    "    return None\n",
    "\n",
    "def findQi_brutforce(i):\n",
    "    U = [T(i,j) * (Qlist_rec[j-1]^-1) for j in range(k//2+1, n//2+1)]\n",
    "    for j in MatrixSpace(K, m+1):\n",
    "        if j.is_singular(): continue\n",
    "        for i in MatrixSpace(K, m):   \n",
    "            if i.is_singular(): continue    \n",
    "            Qi = block_diagonal_matrix([i, identity_matrix(m)]) * block_diagonal_matrix([identity_matrix(m-1), j])\n",
    "            #Qim = Qi^-1\n",
    "            fl = True\n",
    "            for Ui in U:\n",
    "                if not testMat(Qi*Ui):\n",
    "                    fl = False\n",
    "                    break\n",
    "            if fl:\n",
    "                print(\"+\")\n",
    "                return Qi\n",
    "    return None"
   ]
  },
  {
   "cell_type": "code",
   "execution_count": 14,
   "id": "cce9d850",
   "metadata": {},
   "outputs": [
    {
     "name": "stdout",
     "output_type": "stream",
     "text": [
      "+\n",
      "+\n",
      "+\n"
     ]
    }
   ],
   "source": [
    "for i in range(2, k//2+1):\n",
    "    Qlist_rec[i-1] = findQi_prob(i)"
   ]
  },
  {
   "cell_type": "code",
   "execution_count": 15,
   "id": "6d7866c5",
   "metadata": {},
   "outputs": [],
   "source": [
    "Qrec = block_diagonal_matrix(Qlist_rec)"
   ]
  },
  {
   "cell_type": "code",
   "execution_count": 16,
   "id": "d650727b",
   "metadata": {
    "scrolled": true
   },
   "outputs": [
    {
     "data": {
      "text/plain": [
       "[16, 8] linear code over GF(25)"
      ]
     },
     "execution_count": 16,
     "metadata": {},
     "output_type": "execute_result"
    }
   ],
   "source": [
    "def chunks(lst, m):\n",
    "    \"\"\"Yield successive m-sized chunks from lst.\"\"\"\n",
    "    for i in range(0, len(lst), m):\n",
    "        yield lst[i:i + m]\n",
    "\n",
    "def fold_matrix(M):\n",
    "    \"\"\"Anti-expansion\"\"\"\n",
    "    return matrix([[F(j) for j in chunks(i, m)] for i in M])\n",
    "\n",
    "Csec_rec = codes.LinearCode(fold_matrix(Gpub*(Qrec^-1)))\n",
    "Csec_rec"
   ]
  },
  {
   "cell_type": "markdown",
   "id": "e0473642",
   "metadata": {},
   "source": [
    "## Step 4: Sidelnikov-Shestakov attack"
   ]
  },
  {
   "cell_type": "code",
   "execution_count": 17,
   "id": "d0b4e2a2",
   "metadata": {},
   "outputs": [],
   "source": [
    "G = Csec_rec.generator_matrix().rref()"
   ]
  },
  {
   "cell_type": "code",
   "execution_count": 18,
   "id": "f2b6568b",
   "metadata": {},
   "outputs": [],
   "source": [
    "a = [0]*n\n",
    "a[0] = 0\n",
    "a[1] = z\n",
    "a[k] = z+1\n",
    "\n",
    "for v in range(k+1, n):\n",
    "    i = 0; j = 1; u = k\n",
    "    coeff = G[i,u]*G[j,v]/(G[j,u]*G[i,v])\n",
    "    for alpha in F:        \n",
    "        if (alpha not in a) and coeff == (a[u]-a[j])*(alpha-a[i])/((a[u]-a[i])*(alpha-a[j])):\n",
    "            a[v] = alpha\n",
    "            break\n",
    "for j in range(2, k):\n",
    "    i = 0; u = k; v = k+1\n",
    "    coeff = G[i,u]*G[j,v]/(G[j,u]*G[i,v])\n",
    "    for alpha in F:        \n",
    "        if (alpha not in a) and coeff == (a[u]-alpha)*(a[v]-a[i])/((a[u]-a[i])*(a[v]-alpha)):\n",
    "            a[j] = alpha\n",
    "            break"
   ]
  },
  {
   "cell_type": "code",
   "execution_count": 19,
   "id": "a86d0421",
   "metadata": {},
   "outputs": [
    {
     "data": {
      "text/plain": [
       "[0,\n",
       " z,\n",
       " 2*z + 4,\n",
       " 4*z + 2,\n",
       " 3*z + 1,\n",
       " 2*z,\n",
       " 2*z + 3,\n",
       " 2,\n",
       " z + 1,\n",
       " 2*z + 1,\n",
       " z + 4,\n",
       " 2*z + 2,\n",
       " 4*z + 3,\n",
       " 4*z + 4,\n",
       " 4*z + 1,\n",
       " 1]"
      ]
     },
     "execution_count": 19,
     "metadata": {},
     "output_type": "execute_result"
    }
   ],
   "source": [
    "a"
   ]
  },
  {
   "cell_type": "code",
   "execution_count": 20,
   "id": "8387b7e0",
   "metadata": {},
   "outputs": [],
   "source": [
    "In = identity_matrix(F, n)\n",
    "T = matrix([(codes.GeneralizedReedSolomonCode(a, k).generator_matrix() * \n",
    "      diagonal_matrix(i) * Csec_rec.parity_check_matrix().T).list() for i in In])\n",
    "b = T.left_kernel().basis()[0]"
   ]
  },
  {
   "cell_type": "code",
   "execution_count": 21,
   "id": "294bd921",
   "metadata": {},
   "outputs": [
    {
     "data": {
      "text/plain": [
       "[3 3 2 1 1 3 4 0 4 4 3 4 3 0 1 3]\n",
       "[3 1 2 1 4 1 1 2 3 3 3 2 0 2 2 2]\n",
       "[4 4 3 3 3 4 4 4 2 3 2 1 0 3 4 3]\n",
       "[4 1 1 4 2 0 2 0 4 1 1 2 1 3 3 2]\n",
       "[2 2 3 0 3 2 3 0 1 4 2 1 1 1 1 1]\n",
       "[3 0 3 4 3 3 4 4 2 0 0 3 3 3 0 3]\n",
       "[3 3 4 2 3 2 0 3 2 1 1 4 0 1 1 4]\n",
       "[2 1 0 4 4 4 1 2 0 0 1 3 4 0 1 2]\n",
       "[1 3 4 4 0 1 4 1 1 0 3 3 1 0 2 1]\n",
       "[0 3 2 2 3 4 2 4 3 2 1 4 4 3 3 0]\n",
       "[0 4 2 3 2 2 0 2 4 4 4 3 0 4 2 3]\n",
       "[3 0 0 3 3 2 0 2 0 1 1 0 1 3 2 0]\n",
       "[2 0 2 2 2 3 3 2 4 4 0 2 1 0 2 3]\n",
       "[3 0 0 3 4 4 4 2 4 1 2 2 1 4 0 4]\n",
       "[4 2 4 0 2 2 3 3 2 3 0 2 2 4 1 3]\n",
       "[3 0 4 3 0 0 3 1 4 3 3 2 3 0 0 1]"
      ]
     },
     "execution_count": 21,
     "metadata": {},
     "output_type": "execute_result"
    }
   ],
   "source": [
    "Gpub_rec = expMat(codes.GeneralizedReedSolomonCode(a, k, b).generator_matrix()) * Qrec\n",
    "\n",
    "Gpub.solve_left(Gpub_rec)"
   ]
  },
  {
   "cell_type": "code",
   "execution_count": null,
   "id": "2de2c26a",
   "metadata": {},
   "outputs": [],
   "source": []
  }
 ],
 "metadata": {
  "kernelspec": {
   "display_name": "SageMath 9.5",
   "language": "sage",
   "name": "sagemath"
  },
  "language_info": {
   "codemirror_mode": {
    "name": "ipython",
    "version": 3
   },
   "file_extension": ".py",
   "mimetype": "text/x-python",
   "name": "python",
   "nbconvert_exporter": "python",
   "pygments_lexer": "ipython3",
   "version": "3.10.6"
  }
 },
 "nbformat": 4,
 "nbformat_minor": 5
}
