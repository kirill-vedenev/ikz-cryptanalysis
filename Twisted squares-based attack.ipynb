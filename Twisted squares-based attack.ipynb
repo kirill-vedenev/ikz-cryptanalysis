{
 "cells": [
  {
   "cell_type": "code",
   "execution_count": 1,
   "id": "727297bb",
   "metadata": {},
   "outputs": [],
   "source": [
    "#%display latex\n",
    "import random\n",
    "\n",
    "p = 2\n",
    "m = 5\n",
    "q = p^m\n",
    "\n",
    "K = GF(p)\n",
    "F.<z> = K.extension(m)"
   ]
  },
  {
   "cell_type": "markdown",
   "id": "eec00159",
   "metadata": {},
   "source": [
    "## Key generation"
   ]
  },
  {
   "cell_type": "code",
   "execution_count": 2,
   "id": "028bacb5",
   "metadata": {},
   "outputs": [
    {
     "data": {
      "text/plain": [
       "[150, 50] linear code over GF(2)"
      ]
     },
     "execution_count": 2,
     "metadata": {},
     "output_type": "execute_result"
    }
   ],
   "source": [
    "n = 30\n",
    "assert (n % 2 == 0) and (n <= q-1) \n",
    "k = 10\n",
    "X = random.sample([i for i in F if i != 0], n) #the support of RS code\n",
    "\n",
    "Csec = codes.GeneralizedReedSolomonCode(X, k)\n",
    "Qlist = []\n",
    "for i in range(n//2):\n",
    "    Qlist.append(\n",
    "        block_diagonal_matrix(random_matrix(K, m, algorithm='unimodular'), random_matrix(K, m, algorithm='unimodular')) *\n",
    "        block_diagonal_matrix(random_matrix(K, m-1, algorithm='unimodular'), random_matrix(K, m+1, algorithm='unimodular'))\n",
    "    )\n",
    "Q = block_diagonal_matrix(Qlist)\n",
    "\n",
    "expMat = lambda G: block_matrix([[j.matrix().T for j in i] for i in G]) #returns subfield image of G\n",
    "\n",
    "S = random_matrix(K, k*m, algorithm='unimodular')\n",
    "Gpub = S * expMat(Csec.generator_matrix()) * Q\n",
    "Cpub = codes.LinearCode(Gpub)\n",
    "Cpub"
   ]
  },
  {
   "cell_type": "markdown",
   "id": "4f7f681a",
   "metadata": {},
   "source": [
    "## Step 1: Recovering the full support\n",
    "\n",
    "Suppose we are given the partial support $x' = (x_1, x_3, x_5, \\dots, x_{n-1})$ after applying CL–attack to code $D$ (see details in the paper). The goal of this step is to recover the remaing part of $x$, i.e. $x_2, x_4, \\dots, x_n$."
   ]
  },
  {
   "cell_type": "code",
   "execution_count": 3,
   "id": "be293d3e",
   "metadata": {},
   "outputs": [],
   "source": [
    "Xodd = X[0::2] #odd coordinates of X"
   ]
  },
  {
   "cell_type": "markdown",
   "id": "9811002e",
   "metadata": {},
   "source": [
    "Let's try to recover $x_2$ using the procedure describded is Section 5.1 "
   ]
  },
  {
   "cell_type": "code",
   "execution_count": 4,
   "id": "efa49ef9",
   "metadata": {},
   "outputs": [],
   "source": [
    "coords = [*range(2*m)]\n",
    "for i in range(2, n-1, 2):\n",
    "    coords += [*range(i*m, i*m+(m-1))]\n",
    "#coords"
   ]
  },
  {
   "cell_type": "code",
   "execution_count": 5,
   "id": "8ca5b5cc",
   "metadata": {},
   "outputs": [
    {
     "data": {
      "text/plain": [
       "[66, 50] linear code over GF(2)"
      ]
     },
     "execution_count": 5,
     "metadata": {},
     "output_type": "execute_result"
    }
   ],
   "source": [
    "Godd2 = Gpub[:, coords]\n",
    "D2 = codes.LinearCode(Godd2)\n",
    "D2"
   ]
  },
  {
   "cell_type": "code",
   "execution_count": 6,
   "id": "a09d0a32",
   "metadata": {},
   "outputs": [],
   "source": [
    "GD2 = D2.parity_check_matrix()"
   ]
  },
  {
   "cell_type": "code",
   "execution_count": 7,
   "id": "6289945a",
   "metadata": {},
   "outputs": [
    {
     "data": {
      "text/plain": [
       "20 x 18 dense matrix over Finite Field of size 2 (use the '.str()' method to see the entries)"
      ]
     },
     "execution_count": 7,
     "metadata": {},
     "output_type": "execute_result"
    }
   ],
   "source": [
    "def chunks(lst, n):\n",
    "    \"\"\"Yield successive n-sized chunks from lst.\"\"\"\n",
    "    for i in range(0, len(lst), n):\n",
    "        yield lst[i:i + n]\n",
    "        \n",
    "def fold(v, m=m):\n",
    "    \"\"\"Folds a vector of uknowns into matrix of form X_1 (see Section 5.1)\"\"\"\n",
    "    m1 = matrix(m, m-1, v[:m^2-m])\n",
    "    m2 = matrix(m, m+1, v[m^2-m:2*m^2])\n",
    "    m3 = zero_matrix(m, m-1)\n",
    "    m4 = matrix(m, m+1, v[2*m^2:3*m^2+m])\n",
    "    return block_matrix([[m1,m2],[m3,m4]])\n",
    "\n",
    "def foldM2(v, m=m):\n",
    "    \"\"\" Folds a vector of uknowns into block diagonal matrix (X_1^T, X_2^T, X_3^T, ..., X^{n-1}^T) (see Section 5.1)\"\"\"\n",
    "    sz = 3*m^2 + m\n",
    "    M = []\n",
    "    M.append(fold(v[:sz], m))\n",
    "    for i in chunks(v[sz:], m*(m-1)):\n",
    "        M.append(matrix(m, m-1, i))\n",
    "    return block_diagonal_matrix(M)\n",
    "\n",
    "sz = 3*m^2+m\n",
    "v = random_vector(K, sz + m*(m-1)*2)\n",
    "foldM2(v)"
   ]
  },
  {
   "cell_type": "code",
   "execution_count": 8,
   "id": "9ee6198c",
   "metadata": {},
   "outputs": [
    {
     "name": "stdout",
     "output_type": "stream",
     "text": [
      "True\n"
     ]
    }
   ],
   "source": [
    "sz = 3*m^2+m + (n//2-1)*(m-1)*m\n",
    "Isz = identity_matrix(K, sz)\n",
    "\n",
    "for x2 in F:\n",
    "    if x2 not in Xodd and (x2 != 0):\n",
    "        RS_supp = [Xodd[0], x2] + Xodd[1:]\n",
    "        RS_mat = expMat(codes.GeneralizedReedSolomonCode(RS_supp, k).generator_matrix())\n",
    "        T = matrix([(GD2 * foldM2(i).T * RS_mat.T).list() for i in Isz])\n",
    "        dm = T.left_kernel().dimension() #checking whether system \n",
    "                                        #G_{D_2} \\cdot \\diag\\left( X_1^\\tr, X_3^{\\tr}, \\dots, X_{n-1}^{\\tr} \\right) \\cdot\n",
    "                                        #\\Exp_{\\Gamma}\\left( G_k(x_1, w, x_3, x_5, \\dots, x_{n-1}) \\right)^{\\tr} = 0 has a solutions\n",
    "        if dm > 0:\n",
    "            print(x2 == X[1])\n",
    "            break"
   ]
  },
  {
   "cell_type": "markdown",
   "id": "297625cb",
   "metadata": {},
   "source": [
    "So, $x_2$ is succesfully recovered. Let's find the rest by reducing the problem to the previous one."
   ]
  },
  {
   "cell_type": "code",
   "execution_count": 9,
   "id": "f6ca2c94",
   "metadata": {},
   "outputs": [],
   "source": [
    "Xeven = [x2]\n",
    "\n",
    "def findX2(Gpub, Xodd):\n",
    "    coords = [*range(2*m)]\n",
    "    for i in range(2, n-1, 2):\n",
    "        coords += [*range(i*m, i*m+(m-1))]\n",
    "    coords\n",
    "    Godd2 = Gpub[:, coords]\n",
    "    GD2 = codes.LinearCode(Godd2).parity_check_matrix()\n",
    "    sz = 3*m^2+m + (n//2-1)*(m-1)*m\n",
    "    Isz = identity_matrix(K, sz)\n",
    "    for x2 in F:\n",
    "        if x2 not in Xodd and (x2 != 0):\n",
    "            RS_supp = [Xodd[0], x2] + Xodd[1:]\n",
    "            RS_mat = expMat(codes.GeneralizedReedSolomonCode(RS_supp, k).generator_matrix())\n",
    "            T = matrix([(GD2 * foldM2(i).T * RS_mat.T).list() for i in Isz])\n",
    "            dm = T.left_kernel().dimension() \n",
    "            if dm > 0:\n",
    "                return x2\n",
    "    return None\n",
    "\n",
    "for i in range(1, n//2):\n",
    "    Gpub_new = copy(Gpub)\n",
    "    Xodd_new = copy(Xodd)\n",
    "    Xodd_new[0], Xodd_new[i] = Xodd_new[i], Xodd_new[0]\n",
    "    Gpub_new[:, 0:2*m], Gpub_new[:, 2*m*i:2*m*(i+1)] = Gpub_new[:, 2*m*i:2*m*(i+1)], Gpub_new[:, 0:2*m]\n",
    "    Xeven.append(findX2(Gpub_new, Xodd_new))"
   ]
  },
  {
   "cell_type": "code",
   "execution_count": 10,
   "id": "3d7bbf37",
   "metadata": {},
   "outputs": [
    {
     "data": {
      "text/plain": [
       "True"
      ]
     },
     "execution_count": 10,
     "metadata": {},
     "output_type": "execute_result"
    }
   ],
   "source": [
    "X_recovered = [0]*n\n",
    "X_recovered[0::2] = Xodd\n",
    "X_recovered[1::2] = Xeven\n",
    "\n",
    "X_recovered == X"
   ]
  },
  {
   "cell_type": "markdown",
   "id": "d4c2a0fd",
   "metadata": {},
   "source": [
    "Success! \n",
    "\n",
    "## Step 2: Recovering Q"
   ]
  },
  {
   "cell_type": "code",
   "execution_count": 11,
   "id": "6b80eb02",
   "metadata": {},
   "outputs": [
    {
     "data": {
      "text/plain": [
       "5"
      ]
     },
     "execution_count": 11,
     "metadata": {},
     "output_type": "execute_result"
    }
   ],
   "source": [
    "Csec_rec = codes.GeneralizedReedSolomonCode(X_recovered, k)\n",
    "RS_mat = expMat(Csec_rec.generator_matrix())\n",
    "Hpub = Cpub.parity_check_matrix()\n",
    "\n",
    "def foldM(v, m=m):\n",
    "    sz = 3*m^2 + m\n",
    "    M = []\n",
    "    for i in chunks(v, sz):\n",
    "        M.append(fold(i, m))\n",
    "    return block_diagonal_matrix(M)\n",
    "\n",
    "sz_b = 3*m^2+m\n",
    "sz = n // 2 * sz_b\n",
    "Isz = identity_matrix(K, sz)\n",
    "X = matrix([(Hpub * foldM(i).T * (RS_mat.T)).list() for i in Isz])\n",
    "X.left_kernel().dimension()"
   ]
  },
  {
   "cell_type": "markdown",
   "id": "e3b4f87c",
   "metadata": {},
   "source": [
    "So, since number of solutions is $p^m = |\\mathbb{F}_q|$ solution is found up to multiplication by some $\\alpha \\in \\mathbb{F}_q$. Indeed, let's take a non-zero solution $Q_{restored}$"
   ]
  },
  {
   "cell_type": "code",
   "execution_count": 12,
   "id": "65ce67e2",
   "metadata": {},
   "outputs": [],
   "source": [
    "Qrestored = foldM(X.left_kernel().basis()[1])"
   ]
  },
  {
   "cell_type": "code",
   "execution_count": 13,
   "id": "dfb72628",
   "metadata": {},
   "outputs": [
    {
     "data": {
      "text/plain": [
       "z^4 + z^3 + z^2"
      ]
     },
     "execution_count": 13,
     "metadata": {},
     "output_type": "execute_result"
    }
   ],
   "source": [
    "alpha = F(Qrestored.solve_left(Q)[0, :m].list())\n",
    "alpha"
   ]
  },
  {
   "cell_type": "code",
   "execution_count": 14,
   "id": "4fa58995",
   "metadata": {},
   "outputs": [
    {
     "data": {
      "text/plain": [
       "True"
      ]
     },
     "execution_count": 14,
     "metadata": {},
     "output_type": "execute_result"
    }
   ],
   "source": [
    "U = block_diagonal_matrix([alpha.matrix().T for i in range(n)])\n",
    "\n",
    "U*Qrestored == Q"
   ]
  },
  {
   "cell_type": "code",
   "execution_count": null,
   "id": "eb09c678",
   "metadata": {},
   "outputs": [],
   "source": []
  }
 ],
 "metadata": {
  "kernelspec": {
   "display_name": "SageMath 9.5",
   "language": "sage",
   "name": "sagemath"
  },
  "language_info": {
   "codemirror_mode": {
    "name": "ipython",
    "version": 3
   },
   "file_extension": ".py",
   "mimetype": "text/x-python",
   "name": "python",
   "nbconvert_exporter": "python",
   "pygments_lexer": "ipython3",
   "version": "3.10.6"
  }
 },
 "nbformat": 4,
 "nbformat_minor": 5
}
